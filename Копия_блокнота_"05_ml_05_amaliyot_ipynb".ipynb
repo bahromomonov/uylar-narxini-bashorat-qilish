{
  "nbformat": 4,
  "nbformat_minor": 0,
  "metadata": {
    "colab": {
      "name": "Копия блокнота \Uylarni narxini bashorat qilish\"",
      "provenance": [],
      "collapsed_sections": [],
      "include_colab_link": true
    },
    "kernelspec": {
      "name": "python3",
      "display_name": "Python 3"
    },
    "language_info": {
      "name": "python"
    }
  },
  "cells": [
    {
      "cell_type": "markdown",
      "metadata": {
        "id": "view-in-github",
        "colab_type": "text"
      },
      "source": [
        "<a href=\"https://colab.research.google.com/github/bahromomonov/uylar-narxini-bashorat-qilish/blob/main/%D0%9A%D0%BE%D0%BF%D0%B8%D1%8F_%D0%B1%D0%BB%D0%BE%D0%BA%D0%BD%D0%BE%D1%82%D0%B0_%2205_ml_05_amaliyot_ipynb%22.ipynb\" target=\"_parent\"><img src=\"https://colab.research.google.com/assets/colab-badge.svg\" alt=\"Open In Colab\"/></a>"
      ]
    },
    {
      "cell_type": "markdown",
      "source": [
        "![Imgur](https://i.imgur.com/5pXzCIu.png)\n",
        "\n",
        "# Data Science va Sun'iy Intellekt Praktikum\n",
        "\n",
        "## 5-MODUL. Machine Learning\n",
        "\n",
        "### Portfolio uchun vazifa: Toshkent shahrida uylarning narxini aniqlash.\n",
        "\n",
        "Ushbu amaliyotda sizning vazifangiz berilgan ma`lumotlar asosida Toshkent shahridagi uylarning narxini aniqlash."
      ],
      "metadata": {
        "id": "tgzC39RUcDLy"
      }
    },
    {
      "cell_type": "code",
      "execution_count": null,
      "metadata": {
        "colab": {
          "base_uri": "https://localhost:8080/",
          "height": 206
        },
        "id": "ZNYzfPKab-o4",
        "outputId": "0d1c5799-ccd2-4a9b-8472-7df8f8703a92"
      },
      "outputs": [
        {
          "output_type": "execute_result",
          "data": {
            "text/plain": [
              "                                            location       district  rooms  \\\n",
              "0  город Ташкент, Юнусабадский район, Юнусабад 8-...   Юнусабадский      3   \n",
              "1  город Ташкент, Яккасарайский район, 1-й тупик ...  Яккасарайский      2   \n",
              "2  город Ташкент, Чиланзарский район, Чиланзар 2-...   Чиланзарский      2   \n",
              "3  город Ташкент, Чиланзарский район, Чиланзар 9-...   Чиланзарский      3   \n",
              "4  город Ташкент, Чиланзарский район, площадь Актепа   Чиланзарский      3   \n",
              "\n",
              "  size  level  max_levels  price  \n",
              "0   57      4           4  52000  \n",
              "1   52      4           5  56000  \n",
              "2   42      4           4  37000  \n",
              "3   65      1           4  49500  \n",
              "4   70      3           5  55000  "
            ],
            "text/html": [
              "\n",
              "  <div id=\"df-026a8552-45ca-4990-9470-4dccf9b7664b\">\n",
              "    <div class=\"colab-df-container\">\n",
              "      <div>\n",
              "<style scoped>\n",
              "    .dataframe tbody tr th:only-of-type {\n",
              "        vertical-align: middle;\n",
              "    }\n",
              "\n",
              "    .dataframe tbody tr th {\n",
              "        vertical-align: top;\n",
              "    }\n",
              "\n",
              "    .dataframe thead th {\n",
              "        text-align: right;\n",
              "    }\n",
              "</style>\n",
              "<table border=\"1\" class=\"dataframe\">\n",
              "  <thead>\n",
              "    <tr style=\"text-align: right;\">\n",
              "      <th></th>\n",
              "      <th>location</th>\n",
              "      <th>district</th>\n",
              "      <th>rooms</th>\n",
              "      <th>size</th>\n",
              "      <th>level</th>\n",
              "      <th>max_levels</th>\n",
              "      <th>price</th>\n",
              "    </tr>\n",
              "  </thead>\n",
              "  <tbody>\n",
              "    <tr>\n",
              "      <th>0</th>\n",
              "      <td>город Ташкент, Юнусабадский район, Юнусабад 8-...</td>\n",
              "      <td>Юнусабадский</td>\n",
              "      <td>3</td>\n",
              "      <td>57</td>\n",
              "      <td>4</td>\n",
              "      <td>4</td>\n",
              "      <td>52000</td>\n",
              "    </tr>\n",
              "    <tr>\n",
              "      <th>1</th>\n",
              "      <td>город Ташкент, Яккасарайский район, 1-й тупик ...</td>\n",
              "      <td>Яккасарайский</td>\n",
              "      <td>2</td>\n",
              "      <td>52</td>\n",
              "      <td>4</td>\n",
              "      <td>5</td>\n",
              "      <td>56000</td>\n",
              "    </tr>\n",
              "    <tr>\n",
              "      <th>2</th>\n",
              "      <td>город Ташкент, Чиланзарский район, Чиланзар 2-...</td>\n",
              "      <td>Чиланзарский</td>\n",
              "      <td>2</td>\n",
              "      <td>42</td>\n",
              "      <td>4</td>\n",
              "      <td>4</td>\n",
              "      <td>37000</td>\n",
              "    </tr>\n",
              "    <tr>\n",
              "      <th>3</th>\n",
              "      <td>город Ташкент, Чиланзарский район, Чиланзар 9-...</td>\n",
              "      <td>Чиланзарский</td>\n",
              "      <td>3</td>\n",
              "      <td>65</td>\n",
              "      <td>1</td>\n",
              "      <td>4</td>\n",
              "      <td>49500</td>\n",
              "    </tr>\n",
              "    <tr>\n",
              "      <th>4</th>\n",
              "      <td>город Ташкент, Чиланзарский район, площадь Актепа</td>\n",
              "      <td>Чиланзарский</td>\n",
              "      <td>3</td>\n",
              "      <td>70</td>\n",
              "      <td>3</td>\n",
              "      <td>5</td>\n",
              "      <td>55000</td>\n",
              "    </tr>\n",
              "  </tbody>\n",
              "</table>\n",
              "</div>\n",
              "      <button class=\"colab-df-convert\" onclick=\"convertToInteractive('df-026a8552-45ca-4990-9470-4dccf9b7664b')\"\n",
              "              title=\"Convert this dataframe to an interactive table.\"\n",
              "              style=\"display:none;\">\n",
              "        \n",
              "  <svg xmlns=\"http://www.w3.org/2000/svg\" height=\"24px\"viewBox=\"0 0 24 24\"\n",
              "       width=\"24px\">\n",
              "    <path d=\"M0 0h24v24H0V0z\" fill=\"none\"/>\n",
              "    <path d=\"M18.56 5.44l.94 2.06.94-2.06 2.06-.94-2.06-.94-.94-2.06-.94 2.06-2.06.94zm-11 1L8.5 8.5l.94-2.06 2.06-.94-2.06-.94L8.5 2.5l-.94 2.06-2.06.94zm10 10l.94 2.06.94-2.06 2.06-.94-2.06-.94-.94-2.06-.94 2.06-2.06.94z\"/><path d=\"M17.41 7.96l-1.37-1.37c-.4-.4-.92-.59-1.43-.59-.52 0-1.04.2-1.43.59L10.3 9.45l-7.72 7.72c-.78.78-.78 2.05 0 2.83L4 21.41c.39.39.9.59 1.41.59.51 0 1.02-.2 1.41-.59l7.78-7.78 2.81-2.81c.8-.78.8-2.07 0-2.86zM5.41 20L4 18.59l7.72-7.72 1.47 1.35L5.41 20z\"/>\n",
              "  </svg>\n",
              "      </button>\n",
              "      \n",
              "  <style>\n",
              "    .colab-df-container {\n",
              "      display:flex;\n",
              "      flex-wrap:wrap;\n",
              "      gap: 12px;\n",
              "    }\n",
              "\n",
              "    .colab-df-convert {\n",
              "      background-color: #E8F0FE;\n",
              "      border: none;\n",
              "      border-radius: 50%;\n",
              "      cursor: pointer;\n",
              "      display: none;\n",
              "      fill: #1967D2;\n",
              "      height: 32px;\n",
              "      padding: 0 0 0 0;\n",
              "      width: 32px;\n",
              "    }\n",
              "\n",
              "    .colab-df-convert:hover {\n",
              "      background-color: #E2EBFA;\n",
              "      box-shadow: 0px 1px 2px rgba(60, 64, 67, 0.3), 0px 1px 3px 1px rgba(60, 64, 67, 0.15);\n",
              "      fill: #174EA6;\n",
              "    }\n",
              "\n",
              "    [theme=dark] .colab-df-convert {\n",
              "      background-color: #3B4455;\n",
              "      fill: #D2E3FC;\n",
              "    }\n",
              "\n",
              "    [theme=dark] .colab-df-convert:hover {\n",
              "      background-color: #434B5C;\n",
              "      box-shadow: 0px 1px 3px 1px rgba(0, 0, 0, 0.15);\n",
              "      filter: drop-shadow(0px 1px 2px rgba(0, 0, 0, 0.3));\n",
              "      fill: #FFFFFF;\n",
              "    }\n",
              "  </style>\n",
              "\n",
              "      <script>\n",
              "        const buttonEl =\n",
              "          document.querySelector('#df-026a8552-45ca-4990-9470-4dccf9b7664b button.colab-df-convert');\n",
              "        buttonEl.style.display =\n",
              "          google.colab.kernel.accessAllowed ? 'block' : 'none';\n",
              "\n",
              "        async function convertToInteractive(key) {\n",
              "          const element = document.querySelector('#df-026a8552-45ca-4990-9470-4dccf9b7664b');\n",
              "          const dataTable =\n",
              "            await google.colab.kernel.invokeFunction('convertToInteractive',\n",
              "                                                     [key], {});\n",
              "          if (!dataTable) return;\n",
              "\n",
              "          const docLinkHtml = 'Like what you see? Visit the ' +\n",
              "            '<a target=\"_blank\" href=https://colab.research.google.com/notebooks/data_table.ipynb>data table notebook</a>'\n",
              "            + ' to learn more about interactive tables.';\n",
              "          element.innerHTML = '';\n",
              "          dataTable['output_type'] = 'display_data';\n",
              "          await google.colab.output.renderOutput(dataTable, element);\n",
              "          const docLink = document.createElement('div');\n",
              "          docLink.innerHTML = docLinkHtml;\n",
              "          element.appendChild(docLink);\n",
              "        }\n",
              "      </script>\n",
              "    </div>\n",
              "  </div>\n",
              "  "
            ]
          },
          "metadata": {},
          "execution_count": 2
        }
      ],
      "source": [
        "import pandas as pd\n",
        "import numpy as np\n",
        "import sklearn\n",
        "import matplotlib.pyplot as plt\n",
        "df = pd.read_csv('https://raw.githubusercontent.com/anvarnarz/praktikum_datasets/main/housing_data_08-02-2021.csv')\n",
        "df.head()"
      ]
    },
    {
      "cell_type": "code",
      "source": [
        "dfs=df.copy()"
      ],
      "metadata": {
        "id": "dB9raSEq38sf"
      },
      "execution_count": null,
      "outputs": []
    },
    {
      "cell_type": "code",
      "source": [
        "dfs.drop('location',axis=1,inplace=True)"
      ],
      "metadata": {
        "id": "3qbJ2xih38ul"
      },
      "execution_count": null,
      "outputs": []
    },
    {
      "cell_type": "code",
      "source": [
        "dfs.drop('district',axis=1,inplace=True)"
      ],
      "metadata": {
        "id": "DZ7zHenL38y2"
      },
      "execution_count": null,
      "outputs": []
    },
    {
      "cell_type": "code",
      "source": [
        "col=['xonalar_soni','uy_maydoni','uy_qavati','jami_qavat','narxi']\n",
        "dfs.columns=col"
      ],
      "metadata": {
        "id": "wnO5Tq_F3808"
      },
      "execution_count": null,
      "outputs": []
    },
    {
      "cell_type": "code",
      "source": [
        "dfs['uy_maydoni']=dfs['uy_maydoni'].astype(float,errors='raise')"
      ],
      "metadata": {
        "id": "vL3NmgGB5UPf"
      },
      "execution_count": null,
      "outputs": []
    },
    {
      "cell_type": "code",
      "source": [
        "dfs['narxi']=dfs['narxi']=dfs['narxi'].astype(float,errors='raise')"
      ],
      "metadata": {
        "id": "xyFRvEw_5rs0"
      },
      "execution_count": null,
      "outputs": []
    },
    {
      "cell_type": "code",
      "source": [
        "dfs.info()"
      ],
      "metadata": {
        "colab": {
          "base_uri": "https://localhost:8080/"
        },
        "id": "tc3h06UH384z",
        "outputId": "d3a69b2d-fa5c-4f18-e1df-387094939829"
      },
      "execution_count": null,
      "outputs": [
        {
          "output_type": "stream",
          "name": "stdout",
          "text": [
            "<class 'pandas.core.frame.DataFrame'>\n",
            "RangeIndex: 7565 entries, 0 to 7564\n",
            "Data columns (total 5 columns):\n",
            " #   Column        Non-Null Count  Dtype  \n",
            "---  ------        --------------  -----  \n",
            " 0   xonalar_soni  7565 non-null   int64  \n",
            " 1   uy_maydoni    7565 non-null   float64\n",
            " 2   uy_qavati     7565 non-null   int64  \n",
            " 3   jami_qavat    7565 non-null   int64  \n",
            " 4   narxi         7565 non-null   float64\n",
            "dtypes: float64(2), int64(3)\n",
            "memory usage: 295.6 KB\n"
          ]
        }
      ]
    },
    {
      "cell_type": "code",
      "source": [
        "dfs['narxi']=dfs['narxi'].replace({'Договорная':'46000'})"
      ],
      "metadata": {
        "id": "F320LhE-387D"
      },
      "execution_count": null,
      "outputs": []
    },
    {
      "cell_type": "code",
      "source": [
        "dfs['uy_maydoni']=dfs['uy_maydoni'].replace({'Площадьземли:1сот':'69'})"
      ],
      "metadata": {
        "id": "e9Y3UEeW39Cb"
      },
      "execution_count": null,
      "outputs": []
    },
    {
      "cell_type": "code",
      "source": [
        "dfs[dfs['narxi']>1000000]"
      ],
      "metadata": {
        "id": "_nfDv4TtEvVC",
        "outputId": "e4e848b1-0ea9-41ef-d97c-f7004e09dab0",
        "colab": {
          "base_uri": "https://localhost:8080/",
          "height": 331
        }
      },
      "execution_count": null,
      "outputs": [
        {
          "output_type": "execute_result",
          "data": {
            "text/plain": [
              "      xonalar_soni  uy_maydoni  uy_qavati  jami_qavat       narxi\n",
              "330              2        68.0          5           8   1666000.0\n",
              "1744             3        84.0          1           5   3780000.0\n",
              "5903             4        72.0          2           5  52000000.0\n",
              "6133             3        42.0          3           4   1344000.0\n",
              "6517             3        80.0          8           9   4240000.0\n",
              "6952             3       114.0          5           7  15504000.0\n",
              "7081             2        85.0          2           3   6630000.0\n",
              "7296             4        96.0          2           5   5568000.0\n",
              "7466             2        42.0          1           3   1470000.0"
            ],
            "text/html": [
              "\n",
              "  <div id=\"df-fe97c768-a1be-4eec-b761-521bac58e29c\">\n",
              "    <div class=\"colab-df-container\">\n",
              "      <div>\n",
              "<style scoped>\n",
              "    .dataframe tbody tr th:only-of-type {\n",
              "        vertical-align: middle;\n",
              "    }\n",
              "\n",
              "    .dataframe tbody tr th {\n",
              "        vertical-align: top;\n",
              "    }\n",
              "\n",
              "    .dataframe thead th {\n",
              "        text-align: right;\n",
              "    }\n",
              "</style>\n",
              "<table border=\"1\" class=\"dataframe\">\n",
              "  <thead>\n",
              "    <tr style=\"text-align: right;\">\n",
              "      <th></th>\n",
              "      <th>xonalar_soni</th>\n",
              "      <th>uy_maydoni</th>\n",
              "      <th>uy_qavati</th>\n",
              "      <th>jami_qavat</th>\n",
              "      <th>narxi</th>\n",
              "    </tr>\n",
              "  </thead>\n",
              "  <tbody>\n",
              "    <tr>\n",
              "      <th>330</th>\n",
              "      <td>2</td>\n",
              "      <td>68.0</td>\n",
              "      <td>5</td>\n",
              "      <td>8</td>\n",
              "      <td>1666000.0</td>\n",
              "    </tr>\n",
              "    <tr>\n",
              "      <th>1744</th>\n",
              "      <td>3</td>\n",
              "      <td>84.0</td>\n",
              "      <td>1</td>\n",
              "      <td>5</td>\n",
              "      <td>3780000.0</td>\n",
              "    </tr>\n",
              "    <tr>\n",
              "      <th>5903</th>\n",
              "      <td>4</td>\n",
              "      <td>72.0</td>\n",
              "      <td>2</td>\n",
              "      <td>5</td>\n",
              "      <td>52000000.0</td>\n",
              "    </tr>\n",
              "    <tr>\n",
              "      <th>6133</th>\n",
              "      <td>3</td>\n",
              "      <td>42.0</td>\n",
              "      <td>3</td>\n",
              "      <td>4</td>\n",
              "      <td>1344000.0</td>\n",
              "    </tr>\n",
              "    <tr>\n",
              "      <th>6517</th>\n",
              "      <td>3</td>\n",
              "      <td>80.0</td>\n",
              "      <td>8</td>\n",
              "      <td>9</td>\n",
              "      <td>4240000.0</td>\n",
              "    </tr>\n",
              "    <tr>\n",
              "      <th>6952</th>\n",
              "      <td>3</td>\n",
              "      <td>114.0</td>\n",
              "      <td>5</td>\n",
              "      <td>7</td>\n",
              "      <td>15504000.0</td>\n",
              "    </tr>\n",
              "    <tr>\n",
              "      <th>7081</th>\n",
              "      <td>2</td>\n",
              "      <td>85.0</td>\n",
              "      <td>2</td>\n",
              "      <td>3</td>\n",
              "      <td>6630000.0</td>\n",
              "    </tr>\n",
              "    <tr>\n",
              "      <th>7296</th>\n",
              "      <td>4</td>\n",
              "      <td>96.0</td>\n",
              "      <td>2</td>\n",
              "      <td>5</td>\n",
              "      <td>5568000.0</td>\n",
              "    </tr>\n",
              "    <tr>\n",
              "      <th>7466</th>\n",
              "      <td>2</td>\n",
              "      <td>42.0</td>\n",
              "      <td>1</td>\n",
              "      <td>3</td>\n",
              "      <td>1470000.0</td>\n",
              "    </tr>\n",
              "  </tbody>\n",
              "</table>\n",
              "</div>\n",
              "      <button class=\"colab-df-convert\" onclick=\"convertToInteractive('df-fe97c768-a1be-4eec-b761-521bac58e29c')\"\n",
              "              title=\"Convert this dataframe to an interactive table.\"\n",
              "              style=\"display:none;\">\n",
              "        \n",
              "  <svg xmlns=\"http://www.w3.org/2000/svg\" height=\"24px\"viewBox=\"0 0 24 24\"\n",
              "       width=\"24px\">\n",
              "    <path d=\"M0 0h24v24H0V0z\" fill=\"none\"/>\n",
              "    <path d=\"M18.56 5.44l.94 2.06.94-2.06 2.06-.94-2.06-.94-.94-2.06-.94 2.06-2.06.94zm-11 1L8.5 8.5l.94-2.06 2.06-.94-2.06-.94L8.5 2.5l-.94 2.06-2.06.94zm10 10l.94 2.06.94-2.06 2.06-.94-2.06-.94-.94-2.06-.94 2.06-2.06.94z\"/><path d=\"M17.41 7.96l-1.37-1.37c-.4-.4-.92-.59-1.43-.59-.52 0-1.04.2-1.43.59L10.3 9.45l-7.72 7.72c-.78.78-.78 2.05 0 2.83L4 21.41c.39.39.9.59 1.41.59.51 0 1.02-.2 1.41-.59l7.78-7.78 2.81-2.81c.8-.78.8-2.07 0-2.86zM5.41 20L4 18.59l7.72-7.72 1.47 1.35L5.41 20z\"/>\n",
              "  </svg>\n",
              "      </button>\n",
              "      \n",
              "  <style>\n",
              "    .colab-df-container {\n",
              "      display:flex;\n",
              "      flex-wrap:wrap;\n",
              "      gap: 12px;\n",
              "    }\n",
              "\n",
              "    .colab-df-convert {\n",
              "      background-color: #E8F0FE;\n",
              "      border: none;\n",
              "      border-radius: 50%;\n",
              "      cursor: pointer;\n",
              "      display: none;\n",
              "      fill: #1967D2;\n",
              "      height: 32px;\n",
              "      padding: 0 0 0 0;\n",
              "      width: 32px;\n",
              "    }\n",
              "\n",
              "    .colab-df-convert:hover {\n",
              "      background-color: #E2EBFA;\n",
              "      box-shadow: 0px 1px 2px rgba(60, 64, 67, 0.3), 0px 1px 3px 1px rgba(60, 64, 67, 0.15);\n",
              "      fill: #174EA6;\n",
              "    }\n",
              "\n",
              "    [theme=dark] .colab-df-convert {\n",
              "      background-color: #3B4455;\n",
              "      fill: #D2E3FC;\n",
              "    }\n",
              "\n",
              "    [theme=dark] .colab-df-convert:hover {\n",
              "      background-color: #434B5C;\n",
              "      box-shadow: 0px 1px 3px 1px rgba(0, 0, 0, 0.15);\n",
              "      filter: drop-shadow(0px 1px 2px rgba(0, 0, 0, 0.3));\n",
              "      fill: #FFFFFF;\n",
              "    }\n",
              "  </style>\n",
              "\n",
              "      <script>\n",
              "        const buttonEl =\n",
              "          document.querySelector('#df-fe97c768-a1be-4eec-b761-521bac58e29c button.colab-df-convert');\n",
              "        buttonEl.style.display =\n",
              "          google.colab.kernel.accessAllowed ? 'block' : 'none';\n",
              "\n",
              "        async function convertToInteractive(key) {\n",
              "          const element = document.querySelector('#df-fe97c768-a1be-4eec-b761-521bac58e29c');\n",
              "          const dataTable =\n",
              "            await google.colab.kernel.invokeFunction('convertToInteractive',\n",
              "                                                     [key], {});\n",
              "          if (!dataTable) return;\n",
              "\n",
              "          const docLinkHtml = 'Like what you see? Visit the ' +\n",
              "            '<a target=\"_blank\" href=https://colab.research.google.com/notebooks/data_table.ipynb>data table notebook</a>'\n",
              "            + ' to learn more about interactive tables.';\n",
              "          element.innerHTML = '';\n",
              "          dataTable['output_type'] = 'display_data';\n",
              "          await google.colab.output.renderOutput(dataTable, element);\n",
              "          const docLink = document.createElement('div');\n",
              "          docLink.innerHTML = docLinkHtml;\n",
              "          element.appendChild(docLink);\n",
              "        }\n",
              "      </script>\n",
              "    </div>\n",
              "  </div>\n",
              "  "
            ]
          },
          "metadata": {},
          "execution_count": 45
        }
      ]
    },
    {
      "cell_type": "code",
      "source": [
        "dfs['narxi'].ascending=False\n",
        "dfs['narxi']"
      ],
      "metadata": {
        "id": "5VLMm60TE658",
        "outputId": "ca40ba45-9a4b-4679-eb95-0c732e04eaca",
        "colab": {
          "base_uri": "https://localhost:8080/"
        }
      },
      "execution_count": null,
      "outputs": [
        {
          "output_type": "execute_result",
          "data": {
            "text/plain": [
              "0       4492.5\n",
              "1       4947.0\n",
              "2       2344.0\n",
              "3       4210.5\n",
              "4       4811.0\n",
              "         ...  \n",
              "7560     423.5\n",
              "7561    1377.0\n",
              "7562    2831.0\n",
              "7563      19.5\n",
              "7564     258.0\n",
              "Name: narxi, Length: 7565, dtype: float64"
            ]
          },
          "metadata": {},
          "execution_count": 56
        }
      ]
    },
    {
      "cell_type": "code",
      "source": [
        "%matplotlib inline \n",
        "dfs.hist(bins=40,figsize=(9,6))\n",
        "plt.show()"
      ],
      "metadata": {
        "colab": {
          "base_uri": "https://localhost:8080/",
          "height": 403
        },
        "id": "NhWd2Ifv39nW",
        "outputId": "596cce3c-b432-41f7-fb6f-38ef5e622e12"
      },
      "execution_count": null,
      "outputs": [
        {
          "output_type": "display_data",
          "data": {
            "text/plain": [
              "<Figure size 648x432 with 6 Axes>"
            ],
            "image/png": "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\n"
          },
          "metadata": {
            "needs_background": "light"
          }
        }
      ]
    },
    {
      "cell_type": "code",
      "source": [
        ""
      ],
      "metadata": {
        "id": "oJk8fDJ09Ukj"
      },
      "execution_count": null,
      "outputs": []
    },
    {
      "cell_type": "code",
      "source": [
        "from sklearn.model_selection import train_test_split\n",
        "train_set,test_set=train_test_split(dfs,test_size=0.2,random_state=40)\n",
        "train_set"
      ],
      "metadata": {
        "colab": {
          "base_uri": "https://localhost:8080/",
          "height": 423
        },
        "id": "pZZTRzK739qY",
        "outputId": "3f082334-f300-4fd0-a0ec-ab758fa2173d"
      },
      "execution_count": null,
      "outputs": [
        {
          "output_type": "execute_result",
          "data": {
            "text/plain": [
              "      xonalar_soni  uy_maydoni  uy_qavati  jami_qavat    narxi\n",
              "3165             3        70.0          4           5  40000.0\n",
              "1369             3        92.0          7           9  52500.0\n",
              "3857             2        52.0          2           4  41500.0\n",
              "3687             4       160.0          4           4  85000.0\n",
              "4866             2        45.0          5           5  38000.0\n",
              "...            ...         ...        ...         ...      ...\n",
              "3064             4        80.0         12          16  55000.0\n",
              "6309             2        52.0          4           4  39000.0\n",
              "6151             2        65.0          9           9  45000.0\n",
              "6363             3        66.0          4           4  49000.0\n",
              "3398             2        40.0          5           5  31500.0\n",
              "\n",
              "[6052 rows x 5 columns]"
            ],
            "text/html": [
              "\n",
              "  <div id=\"df-7dc2c644-0418-44ca-8e70-08c467aea701\">\n",
              "    <div class=\"colab-df-container\">\n",
              "      <div>\n",
              "<style scoped>\n",
              "    .dataframe tbody tr th:only-of-type {\n",
              "        vertical-align: middle;\n",
              "    }\n",
              "\n",
              "    .dataframe tbody tr th {\n",
              "        vertical-align: top;\n",
              "    }\n",
              "\n",
              "    .dataframe thead th {\n",
              "        text-align: right;\n",
              "    }\n",
              "</style>\n",
              "<table border=\"1\" class=\"dataframe\">\n",
              "  <thead>\n",
              "    <tr style=\"text-align: right;\">\n",
              "      <th></th>\n",
              "      <th>xonalar_soni</th>\n",
              "      <th>uy_maydoni</th>\n",
              "      <th>uy_qavati</th>\n",
              "      <th>jami_qavat</th>\n",
              "      <th>narxi</th>\n",
              "    </tr>\n",
              "  </thead>\n",
              "  <tbody>\n",
              "    <tr>\n",
              "      <th>3165</th>\n",
              "      <td>3</td>\n",
              "      <td>70.0</td>\n",
              "      <td>4</td>\n",
              "      <td>5</td>\n",
              "      <td>40000.0</td>\n",
              "    </tr>\n",
              "    <tr>\n",
              "      <th>1369</th>\n",
              "      <td>3</td>\n",
              "      <td>92.0</td>\n",
              "      <td>7</td>\n",
              "      <td>9</td>\n",
              "      <td>52500.0</td>\n",
              "    </tr>\n",
              "    <tr>\n",
              "      <th>3857</th>\n",
              "      <td>2</td>\n",
              "      <td>52.0</td>\n",
              "      <td>2</td>\n",
              "      <td>4</td>\n",
              "      <td>41500.0</td>\n",
              "    </tr>\n",
              "    <tr>\n",
              "      <th>3687</th>\n",
              "      <td>4</td>\n",
              "      <td>160.0</td>\n",
              "      <td>4</td>\n",
              "      <td>4</td>\n",
              "      <td>85000.0</td>\n",
              "    </tr>\n",
              "    <tr>\n",
              "      <th>4866</th>\n",
              "      <td>2</td>\n",
              "      <td>45.0</td>\n",
              "      <td>5</td>\n",
              "      <td>5</td>\n",
              "      <td>38000.0</td>\n",
              "    </tr>\n",
              "    <tr>\n",
              "      <th>...</th>\n",
              "      <td>...</td>\n",
              "      <td>...</td>\n",
              "      <td>...</td>\n",
              "      <td>...</td>\n",
              "      <td>...</td>\n",
              "    </tr>\n",
              "    <tr>\n",
              "      <th>3064</th>\n",
              "      <td>4</td>\n",
              "      <td>80.0</td>\n",
              "      <td>12</td>\n",
              "      <td>16</td>\n",
              "      <td>55000.0</td>\n",
              "    </tr>\n",
              "    <tr>\n",
              "      <th>6309</th>\n",
              "      <td>2</td>\n",
              "      <td>52.0</td>\n",
              "      <td>4</td>\n",
              "      <td>4</td>\n",
              "      <td>39000.0</td>\n",
              "    </tr>\n",
              "    <tr>\n",
              "      <th>6151</th>\n",
              "      <td>2</td>\n",
              "      <td>65.0</td>\n",
              "      <td>9</td>\n",
              "      <td>9</td>\n",
              "      <td>45000.0</td>\n",
              "    </tr>\n",
              "    <tr>\n",
              "      <th>6363</th>\n",
              "      <td>3</td>\n",
              "      <td>66.0</td>\n",
              "      <td>4</td>\n",
              "      <td>4</td>\n",
              "      <td>49000.0</td>\n",
              "    </tr>\n",
              "    <tr>\n",
              "      <th>3398</th>\n",
              "      <td>2</td>\n",
              "      <td>40.0</td>\n",
              "      <td>5</td>\n",
              "      <td>5</td>\n",
              "      <td>31500.0</td>\n",
              "    </tr>\n",
              "  </tbody>\n",
              "</table>\n",
              "<p>6052 rows × 5 columns</p>\n",
              "</div>\n",
              "      <button class=\"colab-df-convert\" onclick=\"convertToInteractive('df-7dc2c644-0418-44ca-8e70-08c467aea701')\"\n",
              "              title=\"Convert this dataframe to an interactive table.\"\n",
              "              style=\"display:none;\">\n",
              "        \n",
              "  <svg xmlns=\"http://www.w3.org/2000/svg\" height=\"24px\"viewBox=\"0 0 24 24\"\n",
              "       width=\"24px\">\n",
              "    <path d=\"M0 0h24v24H0V0z\" fill=\"none\"/>\n",
              "    <path d=\"M18.56 5.44l.94 2.06.94-2.06 2.06-.94-2.06-.94-.94-2.06-.94 2.06-2.06.94zm-11 1L8.5 8.5l.94-2.06 2.06-.94-2.06-.94L8.5 2.5l-.94 2.06-2.06.94zm10 10l.94 2.06.94-2.06 2.06-.94-2.06-.94-.94-2.06-.94 2.06-2.06.94z\"/><path d=\"M17.41 7.96l-1.37-1.37c-.4-.4-.92-.59-1.43-.59-.52 0-1.04.2-1.43.59L10.3 9.45l-7.72 7.72c-.78.78-.78 2.05 0 2.83L4 21.41c.39.39.9.59 1.41.59.51 0 1.02-.2 1.41-.59l7.78-7.78 2.81-2.81c.8-.78.8-2.07 0-2.86zM5.41 20L4 18.59l7.72-7.72 1.47 1.35L5.41 20z\"/>\n",
              "  </svg>\n",
              "      </button>\n",
              "      \n",
              "  <style>\n",
              "    .colab-df-container {\n",
              "      display:flex;\n",
              "      flex-wrap:wrap;\n",
              "      gap: 12px;\n",
              "    }\n",
              "\n",
              "    .colab-df-convert {\n",
              "      background-color: #E8F0FE;\n",
              "      border: none;\n",
              "      border-radius: 50%;\n",
              "      cursor: pointer;\n",
              "      display: none;\n",
              "      fill: #1967D2;\n",
              "      height: 32px;\n",
              "      padding: 0 0 0 0;\n",
              "      width: 32px;\n",
              "    }\n",
              "\n",
              "    .colab-df-convert:hover {\n",
              "      background-color: #E2EBFA;\n",
              "      box-shadow: 0px 1px 2px rgba(60, 64, 67, 0.3), 0px 1px 3px 1px rgba(60, 64, 67, 0.15);\n",
              "      fill: #174EA6;\n",
              "    }\n",
              "\n",
              "    [theme=dark] .colab-df-convert {\n",
              "      background-color: #3B4455;\n",
              "      fill: #D2E3FC;\n",
              "    }\n",
              "\n",
              "    [theme=dark] .colab-df-convert:hover {\n",
              "      background-color: #434B5C;\n",
              "      box-shadow: 0px 1px 3px 1px rgba(0, 0, 0, 0.15);\n",
              "      filter: drop-shadow(0px 1px 2px rgba(0, 0, 0, 0.3));\n",
              "      fill: #FFFFFF;\n",
              "    }\n",
              "  </style>\n",
              "\n",
              "      <script>\n",
              "        const buttonEl =\n",
              "          document.querySelector('#df-7dc2c644-0418-44ca-8e70-08c467aea701 button.colab-df-convert');\n",
              "        buttonEl.style.display =\n",
              "          google.colab.kernel.accessAllowed ? 'block' : 'none';\n",
              "\n",
              "        async function convertToInteractive(key) {\n",
              "          const element = document.querySelector('#df-7dc2c644-0418-44ca-8e70-08c467aea701');\n",
              "          const dataTable =\n",
              "            await google.colab.kernel.invokeFunction('convertToInteractive',\n",
              "                                                     [key], {});\n",
              "          if (!dataTable) return;\n",
              "\n",
              "          const docLinkHtml = 'Like what you see? Visit the ' +\n",
              "            '<a target=\"_blank\" href=https://colab.research.google.com/notebooks/data_table.ipynb>data table notebook</a>'\n",
              "            + ' to learn more about interactive tables.';\n",
              "          element.innerHTML = '';\n",
              "          dataTable['output_type'] = 'display_data';\n",
              "          await google.colab.output.renderOutput(dataTable, element);\n",
              "          const docLink = document.createElement('div');\n",
              "          docLink.innerHTML = docLinkHtml;\n",
              "          element.appendChild(docLink);\n",
              "        }\n",
              "      </script>\n",
              "    </div>\n",
              "  </div>\n",
              "  "
            ]
          },
          "metadata": {},
          "execution_count": 14
        }
      ]
    },
    {
      "cell_type": "code",
      "source": [
        "test_set"
      ],
      "metadata": {
        "colab": {
          "base_uri": "https://localhost:8080/",
          "height": 423
        },
        "id": "WAJ-PoLt-S2p",
        "outputId": "90e77e5e-dc47-405d-e23f-f74af531c951"
      },
      "execution_count": null,
      "outputs": [
        {
          "output_type": "execute_result",
          "data": {
            "text/plain": [
              "      xonalar_soni  uy_maydoni  uy_qavati  jami_qavat    narxi\n",
              "4366             2        60.0          4           9  47000.0\n",
              "6308             2        42.0          1           5  31000.0\n",
              "6408             3        82.0         11          12  35000.0\n",
              "2754             2        53.0          2           4  45500.0\n",
              "2837             3        70.0          1           4  63000.0\n",
              "...            ...         ...        ...         ...      ...\n",
              "5579             2        49.0          1           3  58500.0\n",
              "5584             2        50.0          2           4  43000.0\n",
              "4725             2        54.0          1           4  38500.0\n",
              "7068             2        48.0          3           4  41000.0\n",
              "7149             3        70.0          4           4  44000.0\n",
              "\n",
              "[1513 rows x 5 columns]"
            ],
            "text/html": [
              "\n",
              "  <div id=\"df-c85e5059-d581-4ad1-9d6d-140dd5881ffc\">\n",
              "    <div class=\"colab-df-container\">\n",
              "      <div>\n",
              "<style scoped>\n",
              "    .dataframe tbody tr th:only-of-type {\n",
              "        vertical-align: middle;\n",
              "    }\n",
              "\n",
              "    .dataframe tbody tr th {\n",
              "        vertical-align: top;\n",
              "    }\n",
              "\n",
              "    .dataframe thead th {\n",
              "        text-align: right;\n",
              "    }\n",
              "</style>\n",
              "<table border=\"1\" class=\"dataframe\">\n",
              "  <thead>\n",
              "    <tr style=\"text-align: right;\">\n",
              "      <th></th>\n",
              "      <th>xonalar_soni</th>\n",
              "      <th>uy_maydoni</th>\n",
              "      <th>uy_qavati</th>\n",
              "      <th>jami_qavat</th>\n",
              "      <th>narxi</th>\n",
              "    </tr>\n",
              "  </thead>\n",
              "  <tbody>\n",
              "    <tr>\n",
              "      <th>4366</th>\n",
              "      <td>2</td>\n",
              "      <td>60.0</td>\n",
              "      <td>4</td>\n",
              "      <td>9</td>\n",
              "      <td>47000.0</td>\n",
              "    </tr>\n",
              "    <tr>\n",
              "      <th>6308</th>\n",
              "      <td>2</td>\n",
              "      <td>42.0</td>\n",
              "      <td>1</td>\n",
              "      <td>5</td>\n",
              "      <td>31000.0</td>\n",
              "    </tr>\n",
              "    <tr>\n",
              "      <th>6408</th>\n",
              "      <td>3</td>\n",
              "      <td>82.0</td>\n",
              "      <td>11</td>\n",
              "      <td>12</td>\n",
              "      <td>35000.0</td>\n",
              "    </tr>\n",
              "    <tr>\n",
              "      <th>2754</th>\n",
              "      <td>2</td>\n",
              "      <td>53.0</td>\n",
              "      <td>2</td>\n",
              "      <td>4</td>\n",
              "      <td>45500.0</td>\n",
              "    </tr>\n",
              "    <tr>\n",
              "      <th>2837</th>\n",
              "      <td>3</td>\n",
              "      <td>70.0</td>\n",
              "      <td>1</td>\n",
              "      <td>4</td>\n",
              "      <td>63000.0</td>\n",
              "    </tr>\n",
              "    <tr>\n",
              "      <th>...</th>\n",
              "      <td>...</td>\n",
              "      <td>...</td>\n",
              "      <td>...</td>\n",
              "      <td>...</td>\n",
              "      <td>...</td>\n",
              "    </tr>\n",
              "    <tr>\n",
              "      <th>5579</th>\n",
              "      <td>2</td>\n",
              "      <td>49.0</td>\n",
              "      <td>1</td>\n",
              "      <td>3</td>\n",
              "      <td>58500.0</td>\n",
              "    </tr>\n",
              "    <tr>\n",
              "      <th>5584</th>\n",
              "      <td>2</td>\n",
              "      <td>50.0</td>\n",
              "      <td>2</td>\n",
              "      <td>4</td>\n",
              "      <td>43000.0</td>\n",
              "    </tr>\n",
              "    <tr>\n",
              "      <th>4725</th>\n",
              "      <td>2</td>\n",
              "      <td>54.0</td>\n",
              "      <td>1</td>\n",
              "      <td>4</td>\n",
              "      <td>38500.0</td>\n",
              "    </tr>\n",
              "    <tr>\n",
              "      <th>7068</th>\n",
              "      <td>2</td>\n",
              "      <td>48.0</td>\n",
              "      <td>3</td>\n",
              "      <td>4</td>\n",
              "      <td>41000.0</td>\n",
              "    </tr>\n",
              "    <tr>\n",
              "      <th>7149</th>\n",
              "      <td>3</td>\n",
              "      <td>70.0</td>\n",
              "      <td>4</td>\n",
              "      <td>4</td>\n",
              "      <td>44000.0</td>\n",
              "    </tr>\n",
              "  </tbody>\n",
              "</table>\n",
              "<p>1513 rows × 5 columns</p>\n",
              "</div>\n",
              "      <button class=\"colab-df-convert\" onclick=\"convertToInteractive('df-c85e5059-d581-4ad1-9d6d-140dd5881ffc')\"\n",
              "              title=\"Convert this dataframe to an interactive table.\"\n",
              "              style=\"display:none;\">\n",
              "        \n",
              "  <svg xmlns=\"http://www.w3.org/2000/svg\" height=\"24px\"viewBox=\"0 0 24 24\"\n",
              "       width=\"24px\">\n",
              "    <path d=\"M0 0h24v24H0V0z\" fill=\"none\"/>\n",
              "    <path d=\"M18.56 5.44l.94 2.06.94-2.06 2.06-.94-2.06-.94-.94-2.06-.94 2.06-2.06.94zm-11 1L8.5 8.5l.94-2.06 2.06-.94-2.06-.94L8.5 2.5l-.94 2.06-2.06.94zm10 10l.94 2.06.94-2.06 2.06-.94-2.06-.94-.94-2.06-.94 2.06-2.06.94z\"/><path d=\"M17.41 7.96l-1.37-1.37c-.4-.4-.92-.59-1.43-.59-.52 0-1.04.2-1.43.59L10.3 9.45l-7.72 7.72c-.78.78-.78 2.05 0 2.83L4 21.41c.39.39.9.59 1.41.59.51 0 1.02-.2 1.41-.59l7.78-7.78 2.81-2.81c.8-.78.8-2.07 0-2.86zM5.41 20L4 18.59l7.72-7.72 1.47 1.35L5.41 20z\"/>\n",
              "  </svg>\n",
              "      </button>\n",
              "      \n",
              "  <style>\n",
              "    .colab-df-container {\n",
              "      display:flex;\n",
              "      flex-wrap:wrap;\n",
              "      gap: 12px;\n",
              "    }\n",
              "\n",
              "    .colab-df-convert {\n",
              "      background-color: #E8F0FE;\n",
              "      border: none;\n",
              "      border-radius: 50%;\n",
              "      cursor: pointer;\n",
              "      display: none;\n",
              "      fill: #1967D2;\n",
              "      height: 32px;\n",
              "      padding: 0 0 0 0;\n",
              "      width: 32px;\n",
              "    }\n",
              "\n",
              "    .colab-df-convert:hover {\n",
              "      background-color: #E2EBFA;\n",
              "      box-shadow: 0px 1px 2px rgba(60, 64, 67, 0.3), 0px 1px 3px 1px rgba(60, 64, 67, 0.15);\n",
              "      fill: #174EA6;\n",
              "    }\n",
              "\n",
              "    [theme=dark] .colab-df-convert {\n",
              "      background-color: #3B4455;\n",
              "      fill: #D2E3FC;\n",
              "    }\n",
              "\n",
              "    [theme=dark] .colab-df-convert:hover {\n",
              "      background-color: #434B5C;\n",
              "      box-shadow: 0px 1px 3px 1px rgba(0, 0, 0, 0.15);\n",
              "      filter: drop-shadow(0px 1px 2px rgba(0, 0, 0, 0.3));\n",
              "      fill: #FFFFFF;\n",
              "    }\n",
              "  </style>\n",
              "\n",
              "      <script>\n",
              "        const buttonEl =\n",
              "          document.querySelector('#df-c85e5059-d581-4ad1-9d6d-140dd5881ffc button.colab-df-convert');\n",
              "        buttonEl.style.display =\n",
              "          google.colab.kernel.accessAllowed ? 'block' : 'none';\n",
              "\n",
              "        async function convertToInteractive(key) {\n",
              "          const element = document.querySelector('#df-c85e5059-d581-4ad1-9d6d-140dd5881ffc');\n",
              "          const dataTable =\n",
              "            await google.colab.kernel.invokeFunction('convertToInteractive',\n",
              "                                                     [key], {});\n",
              "          if (!dataTable) return;\n",
              "\n",
              "          const docLinkHtml = 'Like what you see? Visit the ' +\n",
              "            '<a target=\"_blank\" href=https://colab.research.google.com/notebooks/data_table.ipynb>data table notebook</a>'\n",
              "            + ' to learn more about interactive tables.';\n",
              "          element.innerHTML = '';\n",
              "          dataTable['output_type'] = 'display_data';\n",
              "          await google.colab.output.renderOutput(dataTable, element);\n",
              "          const docLink = document.createElement('div');\n",
              "          docLink.innerHTML = docLinkHtml;\n",
              "          element.appendChild(docLink);\n",
              "        }\n",
              "      </script>\n",
              "    </div>\n",
              "  </div>\n",
              "  "
            ]
          },
          "metadata": {},
          "execution_count": 15
        }
      ]
    },
    {
      "cell_type": "code",
      "source": [
        ""
      ],
      "metadata": {
        "id": "2toKPvKg-xcG"
      },
      "execution_count": null,
      "outputs": []
    },
    {
      "cell_type": "code",
      "source": [
        "dfs_test=train_set.drop('narxi',axis=1)"
      ],
      "metadata": {
        "id": "CVmI8UtF-1Ng"
      },
      "execution_count": null,
      "outputs": []
    },
    {
      "cell_type": "code",
      "source": [
        "dfsuz.head()"
      ],
      "metadata": {
        "colab": {
          "base_uri": "https://localhost:8080/",
          "height": 206
        },
        "id": "Nd7Y_famRVYu",
        "outputId": "f6e81c53-b63d-44a6-e006-72f5d35ff3f2"
      },
      "execution_count": null,
      "outputs": [
        {
          "output_type": "execute_result",
          "data": {
            "text/plain": [
              "      xonalar_soni  uy_maydoni  uy_qavati  jami_qavat\n",
              "3165             3        70.0          4           5\n",
              "1369             3        92.0          7           9\n",
              "3857             2        52.0          2           4\n",
              "3687             4       160.0          4           4\n",
              "4866             2        45.0          5           5"
            ],
            "text/html": [
              "\n",
              "  <div id=\"df-e8616ca9-d466-4cf4-82a7-f17eb1fb8d43\">\n",
              "    <div class=\"colab-df-container\">\n",
              "      <div>\n",
              "<style scoped>\n",
              "    .dataframe tbody tr th:only-of-type {\n",
              "        vertical-align: middle;\n",
              "    }\n",
              "\n",
              "    .dataframe tbody tr th {\n",
              "        vertical-align: top;\n",
              "    }\n",
              "\n",
              "    .dataframe thead th {\n",
              "        text-align: right;\n",
              "    }\n",
              "</style>\n",
              "<table border=\"1\" class=\"dataframe\">\n",
              "  <thead>\n",
              "    <tr style=\"text-align: right;\">\n",
              "      <th></th>\n",
              "      <th>xonalar_soni</th>\n",
              "      <th>uy_maydoni</th>\n",
              "      <th>uy_qavati</th>\n",
              "      <th>jami_qavat</th>\n",
              "    </tr>\n",
              "  </thead>\n",
              "  <tbody>\n",
              "    <tr>\n",
              "      <th>3165</th>\n",
              "      <td>3</td>\n",
              "      <td>70.0</td>\n",
              "      <td>4</td>\n",
              "      <td>5</td>\n",
              "    </tr>\n",
              "    <tr>\n",
              "      <th>1369</th>\n",
              "      <td>3</td>\n",
              "      <td>92.0</td>\n",
              "      <td>7</td>\n",
              "      <td>9</td>\n",
              "    </tr>\n",
              "    <tr>\n",
              "      <th>3857</th>\n",
              "      <td>2</td>\n",
              "      <td>52.0</td>\n",
              "      <td>2</td>\n",
              "      <td>4</td>\n",
              "    </tr>\n",
              "    <tr>\n",
              "      <th>3687</th>\n",
              "      <td>4</td>\n",
              "      <td>160.0</td>\n",
              "      <td>4</td>\n",
              "      <td>4</td>\n",
              "    </tr>\n",
              "    <tr>\n",
              "      <th>4866</th>\n",
              "      <td>2</td>\n",
              "      <td>45.0</td>\n",
              "      <td>5</td>\n",
              "      <td>5</td>\n",
              "    </tr>\n",
              "  </tbody>\n",
              "</table>\n",
              "</div>\n",
              "      <button class=\"colab-df-convert\" onclick=\"convertToInteractive('df-e8616ca9-d466-4cf4-82a7-f17eb1fb8d43')\"\n",
              "              title=\"Convert this dataframe to an interactive table.\"\n",
              "              style=\"display:none;\">\n",
              "        \n",
              "  <svg xmlns=\"http://www.w3.org/2000/svg\" height=\"24px\"viewBox=\"0 0 24 24\"\n",
              "       width=\"24px\">\n",
              "    <path d=\"M0 0h24v24H0V0z\" fill=\"none\"/>\n",
              "    <path d=\"M18.56 5.44l.94 2.06.94-2.06 2.06-.94-2.06-.94-.94-2.06-.94 2.06-2.06.94zm-11 1L8.5 8.5l.94-2.06 2.06-.94-2.06-.94L8.5 2.5l-.94 2.06-2.06.94zm10 10l.94 2.06.94-2.06 2.06-.94-2.06-.94-.94-2.06-.94 2.06-2.06.94z\"/><path d=\"M17.41 7.96l-1.37-1.37c-.4-.4-.92-.59-1.43-.59-.52 0-1.04.2-1.43.59L10.3 9.45l-7.72 7.72c-.78.78-.78 2.05 0 2.83L4 21.41c.39.39.9.59 1.41.59.51 0 1.02-.2 1.41-.59l7.78-7.78 2.81-2.81c.8-.78.8-2.07 0-2.86zM5.41 20L4 18.59l7.72-7.72 1.47 1.35L5.41 20z\"/>\n",
              "  </svg>\n",
              "      </button>\n",
              "      \n",
              "  <style>\n",
              "    .colab-df-container {\n",
              "      display:flex;\n",
              "      flex-wrap:wrap;\n",
              "      gap: 12px;\n",
              "    }\n",
              "\n",
              "    .colab-df-convert {\n",
              "      background-color: #E8F0FE;\n",
              "      border: none;\n",
              "      border-radius: 50%;\n",
              "      cursor: pointer;\n",
              "      display: none;\n",
              "      fill: #1967D2;\n",
              "      height: 32px;\n",
              "      padding: 0 0 0 0;\n",
              "      width: 32px;\n",
              "    }\n",
              "\n",
              "    .colab-df-convert:hover {\n",
              "      background-color: #E2EBFA;\n",
              "      box-shadow: 0px 1px 2px rgba(60, 64, 67, 0.3), 0px 1px 3px 1px rgba(60, 64, 67, 0.15);\n",
              "      fill: #174EA6;\n",
              "    }\n",
              "\n",
              "    [theme=dark] .colab-df-convert {\n",
              "      background-color: #3B4455;\n",
              "      fill: #D2E3FC;\n",
              "    }\n",
              "\n",
              "    [theme=dark] .colab-df-convert:hover {\n",
              "      background-color: #434B5C;\n",
              "      box-shadow: 0px 1px 3px 1px rgba(0, 0, 0, 0.15);\n",
              "      filter: drop-shadow(0px 1px 2px rgba(0, 0, 0, 0.3));\n",
              "      fill: #FFFFFF;\n",
              "    }\n",
              "  </style>\n",
              "\n",
              "      <script>\n",
              "        const buttonEl =\n",
              "          document.querySelector('#df-e8616ca9-d466-4cf4-82a7-f17eb1fb8d43 button.colab-df-convert');\n",
              "        buttonEl.style.display =\n",
              "          google.colab.kernel.accessAllowed ? 'block' : 'none';\n",
              "\n",
              "        async function convertToInteractive(key) {\n",
              "          const element = document.querySelector('#df-e8616ca9-d466-4cf4-82a7-f17eb1fb8d43');\n",
              "          const dataTable =\n",
              "            await google.colab.kernel.invokeFunction('convertToInteractive',\n",
              "                                                     [key], {});\n",
              "          if (!dataTable) return;\n",
              "\n",
              "          const docLinkHtml = 'Like what you see? Visit the ' +\n",
              "            '<a target=\"_blank\" href=https://colab.research.google.com/notebooks/data_table.ipynb>data table notebook</a>'\n",
              "            + ' to learn more about interactive tables.';\n",
              "          element.innerHTML = '';\n",
              "          dataTable['output_type'] = 'display_data';\n",
              "          await google.colab.output.renderOutput(dataTable, element);\n",
              "          const docLink = document.createElement('div');\n",
              "          docLink.innerHTML = docLinkHtml;\n",
              "          element.appendChild(docLink);\n",
              "        }\n",
              "      </script>\n",
              "    </div>\n",
              "  </div>\n",
              "  "
            ]
          },
          "metadata": {},
          "execution_count": 94
        }
      ]
    },
    {
      "cell_type": "code",
      "source": [
        "dfs_label=train_set['narxi'].copy()"
      ],
      "metadata": {
        "id": "tefeNXrdRCV-"
      },
      "execution_count": null,
      "outputs": []
    },
    {
      "cell_type": "code",
      "source": [
        ""
      ],
      "metadata": {
        "id": "7K3BGA1X-850"
      },
      "execution_count": null,
      "outputs": []
    },
    {
      "cell_type": "code",
      "source": [
        "from numpy.core.multiarray import min_scalar_type\n",
        "from sklearn.preprocessing import MinMaxScaler\n",
        "min_mix_scaler =MinMaxScaler()\n",
        "min_mix_scaler.fit_transform(dfs_test)"
      ],
      "metadata": {
        "colab": {
          "base_uri": "https://localhost:8080/"
        },
        "id": "zzH9iGfv_AkI",
        "outputId": "0d6e7d2b-44d3-4c19-ad34-85e75b1b7731"
      },
      "execution_count": null,
      "outputs": [
        {
          "output_type": "execute_result",
          "data": {
            "text/plain": [
              "array([[0.22222222, 0.00098573, 0.16666667, 0.16666667],\n",
              "       [0.22222222, 0.00130002, 0.33333333, 0.33333333],\n",
              "       [0.11111111, 0.00072858, 0.05555556, 0.125     ],\n",
              "       ...,\n",
              "       [0.11111111, 0.0009143 , 0.44444444, 0.33333333],\n",
              "       [0.22222222, 0.00092858, 0.16666667, 0.125     ],\n",
              "       [0.11111111, 0.00055715, 0.22222222, 0.16666667]])"
            ]
          },
          "metadata": {},
          "execution_count": 19
        }
      ]
    },
    {
      "cell_type": "code",
      "source": [
        "from sklearn.preprocessing import StandardScaler\n",
        "standart_scaler=StandardScaler()\n",
        "standart_scaler.fit_transform(dfs_test)"
      ],
      "metadata": {
        "colab": {
          "base_uri": "https://localhost:8080/"
        },
        "id": "eL4_5ZJT_l0K",
        "outputId": "5c8eb80c-22ff-4fdb-b4e4-f307c39f6a10"
      },
      "execution_count": null,
      "outputs": [
        {
          "output_type": "execute_result",
          "data": {
            "text/plain": [
              "array([[ 0.3436192 , -0.02896697,  0.1250726 , -0.40531473],\n",
              "       [ 0.3436192 , -0.01335489,  1.45381349,  1.12706994],\n",
              "       [-0.57451916, -0.04174049, -0.76075465, -0.7884109 ],\n",
              "       ...,\n",
              "       [-0.57451916, -0.03251517,  2.33964074,  1.12706994],\n",
              "       [ 0.3436192 , -0.03180553,  0.1250726 , -0.7884109 ],\n",
              "       [-0.57451916, -0.05025617,  0.56798623, -0.40531473]])"
            ]
          },
          "metadata": {},
          "execution_count": 20
        }
      ]
    },
    {
      "cell_type": "code",
      "source": [
        "from sklearn.pipeline import Pipeline\n",
        "from sklearn.preprocessing import MinMaxScaler\n",
        "num_pipeline=Pipeline([\n",
        "                   ('mm_scaler',MinMaxScaler())    \n",
        "])\n",
        "\n"
      ],
      "metadata": {
        "id": "pTevZ2rlAcWp"
      },
      "execution_count": null,
      "outputs": []
    },
    {
      "cell_type": "code",
      "source": [
        "x_prepared=num_pipeline.fit_transform(dfs_test)\n",
        "x_prepared"
      ],
      "metadata": {
        "colab": {
          "base_uri": "https://localhost:8080/"
        },
        "id": "6hvGGDXZVYXf",
        "outputId": "8bdb9973-f277-4ff9-f5e3-f806f69966fe"
      },
      "execution_count": null,
      "outputs": [
        {
          "output_type": "execute_result",
          "data": {
            "text/plain": [
              "array([[0.22222222, 0.00098573, 0.16666667, 0.16666667],\n",
              "       [0.22222222, 0.00130002, 0.33333333, 0.33333333],\n",
              "       [0.11111111, 0.00072858, 0.05555556, 0.125     ],\n",
              "       ...,\n",
              "       [0.11111111, 0.0009143 , 0.44444444, 0.33333333],\n",
              "       [0.22222222, 0.00092858, 0.16666667, 0.125     ],\n",
              "       [0.11111111, 0.00055715, 0.22222222, 0.16666667]])"
            ]
          },
          "metadata": {},
          "execution_count": 22
        }
      ]
    },
    {
      "cell_type": "code",
      "source": [
        "from sklearn.linear_model import LinearRegression\n",
        "LR_model=LinearRegression()\n",
        "LR_model.fit(x_prepared,dfs_label)"
      ],
      "metadata": {
        "colab": {
          "base_uri": "https://localhost:8080/"
        },
        "id": "h2gcyUoFbCEY",
        "outputId": "81500826-2865-4822-e60c-8c146c9d4567"
      },
      "execution_count": null,
      "outputs": [
        {
          "output_type": "execute_result",
          "data": {
            "text/plain": [
              "LinearRegression()"
            ]
          },
          "metadata": {},
          "execution_count": 24
        }
      ]
    },
    {
      "cell_type": "code",
      "source": [
        "tests=dfs_test.sample(10)\n",
        "tests"
      ],
      "metadata": {
        "colab": {
          "base_uri": "https://localhost:8080/",
          "height": 363
        },
        "id": "-qPmpJggbsx9",
        "outputId": "aa47c267-b13a-4316-d685-4fdabd03d3c8"
      },
      "execution_count": null,
      "outputs": [
        {
          "output_type": "execute_result",
          "data": {
            "text/plain": [
              "      xonalar_soni  uy_maydoni  uy_qavati  jami_qavat\n",
              "593              2        50.0          4           4\n",
              "4331             2        57.0          3           4\n",
              "2186             2        65.0          5           5\n",
              "5648             3        84.0          7           8\n",
              "3924             6       154.0          4           5\n",
              "2357             2        60.0          6           9\n",
              "3667             2        63.0          7          16\n",
              "5251             3        68.0          3           4\n",
              "187              1        33.0          2           4\n",
              "5396             1        42.0          1           4"
            ],
            "text/html": [
              "\n",
              "  <div id=\"df-f34c3cf8-6f6c-4048-be35-b0cceae62464\">\n",
              "    <div class=\"colab-df-container\">\n",
              "      <div>\n",
              "<style scoped>\n",
              "    .dataframe tbody tr th:only-of-type {\n",
              "        vertical-align: middle;\n",
              "    }\n",
              "\n",
              "    .dataframe tbody tr th {\n",
              "        vertical-align: top;\n",
              "    }\n",
              "\n",
              "    .dataframe thead th {\n",
              "        text-align: right;\n",
              "    }\n",
              "</style>\n",
              "<table border=\"1\" class=\"dataframe\">\n",
              "  <thead>\n",
              "    <tr style=\"text-align: right;\">\n",
              "      <th></th>\n",
              "      <th>xonalar_soni</th>\n",
              "      <th>uy_maydoni</th>\n",
              "      <th>uy_qavati</th>\n",
              "      <th>jami_qavat</th>\n",
              "    </tr>\n",
              "  </thead>\n",
              "  <tbody>\n",
              "    <tr>\n",
              "      <th>593</th>\n",
              "      <td>2</td>\n",
              "      <td>50.0</td>\n",
              "      <td>4</td>\n",
              "      <td>4</td>\n",
              "    </tr>\n",
              "    <tr>\n",
              "      <th>4331</th>\n",
              "      <td>2</td>\n",
              "      <td>57.0</td>\n",
              "      <td>3</td>\n",
              "      <td>4</td>\n",
              "    </tr>\n",
              "    <tr>\n",
              "      <th>2186</th>\n",
              "      <td>2</td>\n",
              "      <td>65.0</td>\n",
              "      <td>5</td>\n",
              "      <td>5</td>\n",
              "    </tr>\n",
              "    <tr>\n",
              "      <th>5648</th>\n",
              "      <td>3</td>\n",
              "      <td>84.0</td>\n",
              "      <td>7</td>\n",
              "      <td>8</td>\n",
              "    </tr>\n",
              "    <tr>\n",
              "      <th>3924</th>\n",
              "      <td>6</td>\n",
              "      <td>154.0</td>\n",
              "      <td>4</td>\n",
              "      <td>5</td>\n",
              "    </tr>\n",
              "    <tr>\n",
              "      <th>2357</th>\n",
              "      <td>2</td>\n",
              "      <td>60.0</td>\n",
              "      <td>6</td>\n",
              "      <td>9</td>\n",
              "    </tr>\n",
              "    <tr>\n",
              "      <th>3667</th>\n",
              "      <td>2</td>\n",
              "      <td>63.0</td>\n",
              "      <td>7</td>\n",
              "      <td>16</td>\n",
              "    </tr>\n",
              "    <tr>\n",
              "      <th>5251</th>\n",
              "      <td>3</td>\n",
              "      <td>68.0</td>\n",
              "      <td>3</td>\n",
              "      <td>4</td>\n",
              "    </tr>\n",
              "    <tr>\n",
              "      <th>187</th>\n",
              "      <td>1</td>\n",
              "      <td>33.0</td>\n",
              "      <td>2</td>\n",
              "      <td>4</td>\n",
              "    </tr>\n",
              "    <tr>\n",
              "      <th>5396</th>\n",
              "      <td>1</td>\n",
              "      <td>42.0</td>\n",
              "      <td>1</td>\n",
              "      <td>4</td>\n",
              "    </tr>\n",
              "  </tbody>\n",
              "</table>\n",
              "</div>\n",
              "      <button class=\"colab-df-convert\" onclick=\"convertToInteractive('df-f34c3cf8-6f6c-4048-be35-b0cceae62464')\"\n",
              "              title=\"Convert this dataframe to an interactive table.\"\n",
              "              style=\"display:none;\">\n",
              "        \n",
              "  <svg xmlns=\"http://www.w3.org/2000/svg\" height=\"24px\"viewBox=\"0 0 24 24\"\n",
              "       width=\"24px\">\n",
              "    <path d=\"M0 0h24v24H0V0z\" fill=\"none\"/>\n",
              "    <path d=\"M18.56 5.44l.94 2.06.94-2.06 2.06-.94-2.06-.94-.94-2.06-.94 2.06-2.06.94zm-11 1L8.5 8.5l.94-2.06 2.06-.94-2.06-.94L8.5 2.5l-.94 2.06-2.06.94zm10 10l.94 2.06.94-2.06 2.06-.94-2.06-.94-.94-2.06-.94 2.06-2.06.94z\"/><path d=\"M17.41 7.96l-1.37-1.37c-.4-.4-.92-.59-1.43-.59-.52 0-1.04.2-1.43.59L10.3 9.45l-7.72 7.72c-.78.78-.78 2.05 0 2.83L4 21.41c.39.39.9.59 1.41.59.51 0 1.02-.2 1.41-.59l7.78-7.78 2.81-2.81c.8-.78.8-2.07 0-2.86zM5.41 20L4 18.59l7.72-7.72 1.47 1.35L5.41 20z\"/>\n",
              "  </svg>\n",
              "      </button>\n",
              "      \n",
              "  <style>\n",
              "    .colab-df-container {\n",
              "      display:flex;\n",
              "      flex-wrap:wrap;\n",
              "      gap: 12px;\n",
              "    }\n",
              "\n",
              "    .colab-df-convert {\n",
              "      background-color: #E8F0FE;\n",
              "      border: none;\n",
              "      border-radius: 50%;\n",
              "      cursor: pointer;\n",
              "      display: none;\n",
              "      fill: #1967D2;\n",
              "      height: 32px;\n",
              "      padding: 0 0 0 0;\n",
              "      width: 32px;\n",
              "    }\n",
              "\n",
              "    .colab-df-convert:hover {\n",
              "      background-color: #E2EBFA;\n",
              "      box-shadow: 0px 1px 2px rgba(60, 64, 67, 0.3), 0px 1px 3px 1px rgba(60, 64, 67, 0.15);\n",
              "      fill: #174EA6;\n",
              "    }\n",
              "\n",
              "    [theme=dark] .colab-df-convert {\n",
              "      background-color: #3B4455;\n",
              "      fill: #D2E3FC;\n",
              "    }\n",
              "\n",
              "    [theme=dark] .colab-df-convert:hover {\n",
              "      background-color: #434B5C;\n",
              "      box-shadow: 0px 1px 3px 1px rgba(0, 0, 0, 0.15);\n",
              "      filter: drop-shadow(0px 1px 2px rgba(0, 0, 0, 0.3));\n",
              "      fill: #FFFFFF;\n",
              "    }\n",
              "  </style>\n",
              "\n",
              "      <script>\n",
              "        const buttonEl =\n",
              "          document.querySelector('#df-f34c3cf8-6f6c-4048-be35-b0cceae62464 button.colab-df-convert');\n",
              "        buttonEl.style.display =\n",
              "          google.colab.kernel.accessAllowed ? 'block' : 'none';\n",
              "\n",
              "        async function convertToInteractive(key) {\n",
              "          const element = document.querySelector('#df-f34c3cf8-6f6c-4048-be35-b0cceae62464');\n",
              "          const dataTable =\n",
              "            await google.colab.kernel.invokeFunction('convertToInteractive',\n",
              "                                                     [key], {});\n",
              "          if (!dataTable) return;\n",
              "\n",
              "          const docLinkHtml = 'Like what you see? Visit the ' +\n",
              "            '<a target=\"_blank\" href=https://colab.research.google.com/notebooks/data_table.ipynb>data table notebook</a>'\n",
              "            + ' to learn more about interactive tables.';\n",
              "          element.innerHTML = '';\n",
              "          dataTable['output_type'] = 'display_data';\n",
              "          await google.colab.output.renderOutput(dataTable, element);\n",
              "          const docLink = document.createElement('div');\n",
              "          docLink.innerHTML = docLinkHtml;\n",
              "          element.appendChild(docLink);\n",
              "        }\n",
              "      </script>\n",
              "    </div>\n",
              "  </div>\n",
              "  "
            ]
          },
          "metadata": {},
          "execution_count": 25
        }
      ]
    },
    {
      "cell_type": "code",
      "source": [
        "test_label=dfs_label.loc[tests.index]\n",
        "test_label"
      ],
      "metadata": {
        "colab": {
          "base_uri": "https://localhost:8080/"
        },
        "id": "QUzTU_hyb_2w",
        "outputId": "cbf15a75-e832-4b3f-827f-d393a8a029e8"
      },
      "execution_count": null,
      "outputs": [
        {
          "output_type": "execute_result",
          "data": {
            "text/plain": [
              "593      28700.0\n",
              "4331     35500.0\n",
              "2186     37000.0\n",
              "5648     85000.0\n",
              "3924    129500.0\n",
              "2357     38500.0\n",
              "3667     33539.0\n",
              "5251     48900.0\n",
              "187      24500.0\n",
              "5396     25990.0\n",
              "Name: narxi, dtype: float64"
            ]
          },
          "metadata": {},
          "execution_count": 26
        }
      ]
    },
    {
      "cell_type": "code",
      "source": [
        "tests_prepared=num_pipeline.transform(tests)\n",
        "tests_prepared"
      ],
      "metadata": {
        "colab": {
          "base_uri": "https://localhost:8080/"
        },
        "id": "uolZ1eiIcZE7",
        "outputId": "ffca2a17-30bc-4b96-f91c-80ee789167cd"
      },
      "execution_count": null,
      "outputs": [
        {
          "output_type": "execute_result",
          "data": {
            "text/plain": [
              "array([[1.11111111e-01, 7.00010000e-04, 1.66666667e-01, 1.25000000e-01],\n",
              "       [1.11111111e-01, 8.00011429e-04, 1.11111111e-01, 1.25000000e-01],\n",
              "       [1.11111111e-01, 9.14298776e-04, 2.22222222e-01, 1.66666667e-01],\n",
              "       [2.22222222e-01, 1.18573122e-03, 3.33333333e-01, 2.91666667e-01],\n",
              "       [5.55555556e-01, 2.18574551e-03, 1.66666667e-01, 1.66666667e-01],\n",
              "       [1.11111111e-01, 8.42869184e-04, 2.77777778e-01, 3.33333333e-01],\n",
              "       [1.11111111e-01, 8.85726939e-04, 3.33333333e-01, 6.25000000e-01],\n",
              "       [2.22222222e-01, 9.57156531e-04, 1.11111111e-01, 1.25000000e-01],\n",
              "       [0.00000000e+00, 4.57149388e-04, 5.55555556e-02, 1.25000000e-01],\n",
              "       [0.00000000e+00, 5.85722653e-04, 0.00000000e+00, 1.25000000e-01]])"
            ]
          },
          "metadata": {},
          "execution_count": 27
        }
      ]
    },
    {
      "cell_type": "code",
      "source": [
        "import pandas as pd"
      ],
      "metadata": {
        "id": "aUTHzg-tdk5C"
      },
      "execution_count": null,
      "outputs": []
    },
    {
      "cell_type": "code",
      "source": [
        "tests_bashorat=LR_model.predict(tests_prepared)\n",
        "pd.DataFrame(tests_bashorat)\n"
      ],
      "metadata": {
        "colab": {
          "base_uri": "https://localhost:8080/",
          "height": 363
        },
        "id": "dSRle4vpc1nE",
        "outputId": "d9ba7eba-a316-43bd-b4ef-ed0c45cb4135"
      },
      "execution_count": null,
      "outputs": [
        {
          "output_type": "execute_result",
          "data": {
            "text/plain": [
              "               0\n",
              "0   45464.708001\n",
              "1   50504.031992\n",
              "2   42838.672328\n",
              "3   74623.843552\n",
              "4  186341.362102\n",
              "5   47465.542756\n",
              "6   59341.073332\n",
              "7   85121.314030\n",
              "8   20929.106771\n",
              "9   25968.127480"
            ],
            "text/html": [
              "\n",
              "  <div id=\"df-cb521de9-c67a-4b6c-8e6a-d43829e0d131\">\n",
              "    <div class=\"colab-df-container\">\n",
              "      <div>\n",
              "<style scoped>\n",
              "    .dataframe tbody tr th:only-of-type {\n",
              "        vertical-align: middle;\n",
              "    }\n",
              "\n",
              "    .dataframe tbody tr th {\n",
              "        vertical-align: top;\n",
              "    }\n",
              "\n",
              "    .dataframe thead th {\n",
              "        text-align: right;\n",
              "    }\n",
              "</style>\n",
              "<table border=\"1\" class=\"dataframe\">\n",
              "  <thead>\n",
              "    <tr style=\"text-align: right;\">\n",
              "      <th></th>\n",
              "      <th>0</th>\n",
              "    </tr>\n",
              "  </thead>\n",
              "  <tbody>\n",
              "    <tr>\n",
              "      <th>0</th>\n",
              "      <td>45464.708001</td>\n",
              "    </tr>\n",
              "    <tr>\n",
              "      <th>1</th>\n",
              "      <td>50504.031992</td>\n",
              "    </tr>\n",
              "    <tr>\n",
              "      <th>2</th>\n",
              "      <td>42838.672328</td>\n",
              "    </tr>\n",
              "    <tr>\n",
              "      <th>3</th>\n",
              "      <td>74623.843552</td>\n",
              "    </tr>\n",
              "    <tr>\n",
              "      <th>4</th>\n",
              "      <td>186341.362102</td>\n",
              "    </tr>\n",
              "    <tr>\n",
              "      <th>5</th>\n",
              "      <td>47465.542756</td>\n",
              "    </tr>\n",
              "    <tr>\n",
              "      <th>6</th>\n",
              "      <td>59341.073332</td>\n",
              "    </tr>\n",
              "    <tr>\n",
              "      <th>7</th>\n",
              "      <td>85121.314030</td>\n",
              "    </tr>\n",
              "    <tr>\n",
              "      <th>8</th>\n",
              "      <td>20929.106771</td>\n",
              "    </tr>\n",
              "    <tr>\n",
              "      <th>9</th>\n",
              "      <td>25968.127480</td>\n",
              "    </tr>\n",
              "  </tbody>\n",
              "</table>\n",
              "</div>\n",
              "      <button class=\"colab-df-convert\" onclick=\"convertToInteractive('df-cb521de9-c67a-4b6c-8e6a-d43829e0d131')\"\n",
              "              title=\"Convert this dataframe to an interactive table.\"\n",
              "              style=\"display:none;\">\n",
              "        \n",
              "  <svg xmlns=\"http://www.w3.org/2000/svg\" height=\"24px\"viewBox=\"0 0 24 24\"\n",
              "       width=\"24px\">\n",
              "    <path d=\"M0 0h24v24H0V0z\" fill=\"none\"/>\n",
              "    <path d=\"M18.56 5.44l.94 2.06.94-2.06 2.06-.94-2.06-.94-.94-2.06-.94 2.06-2.06.94zm-11 1L8.5 8.5l.94-2.06 2.06-.94-2.06-.94L8.5 2.5l-.94 2.06-2.06.94zm10 10l.94 2.06.94-2.06 2.06-.94-2.06-.94-.94-2.06-.94 2.06-2.06.94z\"/><path d=\"M17.41 7.96l-1.37-1.37c-.4-.4-.92-.59-1.43-.59-.52 0-1.04.2-1.43.59L10.3 9.45l-7.72 7.72c-.78.78-.78 2.05 0 2.83L4 21.41c.39.39.9.59 1.41.59.51 0 1.02-.2 1.41-.59l7.78-7.78 2.81-2.81c.8-.78.8-2.07 0-2.86zM5.41 20L4 18.59l7.72-7.72 1.47 1.35L5.41 20z\"/>\n",
              "  </svg>\n",
              "      </button>\n",
              "      \n",
              "  <style>\n",
              "    .colab-df-container {\n",
              "      display:flex;\n",
              "      flex-wrap:wrap;\n",
              "      gap: 12px;\n",
              "    }\n",
              "\n",
              "    .colab-df-convert {\n",
              "      background-color: #E8F0FE;\n",
              "      border: none;\n",
              "      border-radius: 50%;\n",
              "      cursor: pointer;\n",
              "      display: none;\n",
              "      fill: #1967D2;\n",
              "      height: 32px;\n",
              "      padding: 0 0 0 0;\n",
              "      width: 32px;\n",
              "    }\n",
              "\n",
              "    .colab-df-convert:hover {\n",
              "      background-color: #E2EBFA;\n",
              "      box-shadow: 0px 1px 2px rgba(60, 64, 67, 0.3), 0px 1px 3px 1px rgba(60, 64, 67, 0.15);\n",
              "      fill: #174EA6;\n",
              "    }\n",
              "\n",
              "    [theme=dark] .colab-df-convert {\n",
              "      background-color: #3B4455;\n",
              "      fill: #D2E3FC;\n",
              "    }\n",
              "\n",
              "    [theme=dark] .colab-df-convert:hover {\n",
              "      background-color: #434B5C;\n",
              "      box-shadow: 0px 1px 3px 1px rgba(0, 0, 0, 0.15);\n",
              "      filter: drop-shadow(0px 1px 2px rgba(0, 0, 0, 0.3));\n",
              "      fill: #FFFFFF;\n",
              "    }\n",
              "  </style>\n",
              "\n",
              "      <script>\n",
              "        const buttonEl =\n",
              "          document.querySelector('#df-cb521de9-c67a-4b6c-8e6a-d43829e0d131 button.colab-df-convert');\n",
              "        buttonEl.style.display =\n",
              "          google.colab.kernel.accessAllowed ? 'block' : 'none';\n",
              "\n",
              "        async function convertToInteractive(key) {\n",
              "          const element = document.querySelector('#df-cb521de9-c67a-4b6c-8e6a-d43829e0d131');\n",
              "          const dataTable =\n",
              "            await google.colab.kernel.invokeFunction('convertToInteractive',\n",
              "                                                     [key], {});\n",
              "          if (!dataTable) return;\n",
              "\n",
              "          const docLinkHtml = 'Like what you see? Visit the ' +\n",
              "            '<a target=\"_blank\" href=https://colab.research.google.com/notebooks/data_table.ipynb>data table notebook</a>'\n",
              "            + ' to learn more about interactive tables.';\n",
              "          element.innerHTML = '';\n",
              "          dataTable['output_type'] = 'display_data';\n",
              "          await google.colab.output.renderOutput(dataTable, element);\n",
              "          const docLink = document.createElement('div');\n",
              "          docLink.innerHTML = docLinkHtml;\n",
              "          element.appendChild(docLink);\n",
              "        }\n",
              "      </script>\n",
              "    </div>\n",
              "  </div>\n",
              "  "
            ]
          },
          "metadata": {},
          "execution_count": 29
        }
      ]
    },
    {
      "cell_type": "code",
      "source": [
        "test_label"
      ],
      "metadata": {
        "colab": {
          "base_uri": "https://localhost:8080/"
        },
        "id": "tlqg73LBdViy",
        "outputId": "3eafba72-5af0-497a-e97e-e09d08e2317f"
      },
      "execution_count": null,
      "outputs": [
        {
          "output_type": "execute_result",
          "data": {
            "text/plain": [
              "593      28700.0\n",
              "4331     35500.0\n",
              "2186     37000.0\n",
              "5648     85000.0\n",
              "3924    129500.0\n",
              "2357     38500.0\n",
              "3667     33539.0\n",
              "5251     48900.0\n",
              "187      24500.0\n",
              "5396     25990.0\n",
              "Name: narxi, dtype: float64"
            ]
          },
          "metadata": {},
          "execution_count": 30
        }
      ]
    },
    {
      "cell_type": "code",
      "source": [
        "x_test=test_set.drop('narxi',axis=1)"
      ],
      "metadata": {
        "id": "IluYlJ0v4VRV"
      },
      "execution_count": null,
      "outputs": []
    },
    {
      "cell_type": "code",
      "source": [
        "y_test=test_set['narxi'].copy()\n",
        "y_test"
      ],
      "metadata": {
        "id": "i6ZYPAGD4mek",
        "outputId": "b5b61c57-42e1-4398-b52c-5fac9f457f4e",
        "colab": {
          "base_uri": "https://localhost:8080/"
        }
      },
      "execution_count": null,
      "outputs": [
        {
          "output_type": "execute_result",
          "data": {
            "text/plain": [
              "4366    47000.0\n",
              "6308    31000.0\n",
              "6408    35000.0\n",
              "2754    45500.0\n",
              "2837    63000.0\n",
              "         ...   \n",
              "5579    58500.0\n",
              "5584    43000.0\n",
              "4725    38500.0\n",
              "7068    41000.0\n",
              "7149    44000.0\n",
              "Name: narxi, Length: 1513, dtype: float64"
            ]
          },
          "metadata": {},
          "execution_count": 44
        }
      ]
    },
    {
      "cell_type": "code",
      "source": [
        "x_predict=num_pipeline.transform(x_test)\n",
        "x_predict"
      ],
      "metadata": {
        "id": "M5KoSSbl40de",
        "outputId": "e7259ec8-d4d3-4efc-a95c-b807130bd97f",
        "colab": {
          "base_uri": "https://localhost:8080/"
        }
      },
      "execution_count": null,
      "outputs": [
        {
          "output_type": "execute_result",
          "data": {
            "text/plain": [
              "array([[0.11111111, 0.00084287, 0.16666667, 0.33333333],\n",
              "       [0.11111111, 0.00058572, 0.        , 0.16666667],\n",
              "       [0.22222222, 0.00115716, 0.55555556, 0.45833333],\n",
              "       ...,\n",
              "       [0.11111111, 0.00075715, 0.        , 0.125     ],\n",
              "       [0.11111111, 0.00067144, 0.11111111, 0.125     ],\n",
              "       [0.22222222, 0.00098573, 0.16666667, 0.125     ]])"
            ]
          },
          "metadata": {},
          "execution_count": 40
        }
      ]
    },
    {
      "cell_type": "code",
      "source": [
        "y_predict=LR_model.predict(y_predict)\n",
        "y_predict"
      ],
      "metadata": {
        "id": "3IXWmroX5R4d",
        "outputId": "e5e1c7f8-eff7-4176-c4c6-f30a41035d45",
        "colab": {
          "base_uri": "https://localhost:8080/"
        }
      },
      "execution_count": null,
      "outputs": [
        {
          "output_type": "execute_result",
          "data": {
            "text/plain": [
              "array([57546.31371644, 63003.70199645, 64129.10261637, ...,\n",
              "       60585.25787602, 50505.39676315, 80080.62526696])"
            ]
          },
          "metadata": {},
          "execution_count": 41
        }
      ]
    },
    {
      "cell_type": "code",
      "source": [
        "from sklearn.metrics import median_absolute_error\n",
        "mae=median_absolute_error(y_test,y_predict)\n",
        "print(\"MAE\",mae)"
      ],
      "metadata": {
        "id": "sBfiGVLb375R",
        "outputId": "c134607b-d55b-4ea6-b8eb-0689f694d5f3",
        "colab": {
          "base_uri": "https://localhost:8080/"
        }
      },
      "execution_count": null,
      "outputs": [
        {
          "output_type": "stream",
          "name": "stdout",
          "text": [
            "MAE 22161.3962272325\n"
          ]
        }
      ]
    },
    {
      "cell_type": "code",
      "source": [
        "from sklearn.metrics import mean_squared_error\n",
        "mse=mean_squared_error(y_test,y_predict)\n",
        "print(\"RMSE\",np.sqrt(mse))"
      ],
      "metadata": {
        "id": "BovXTbeA38If",
        "outputId": "fe2cd456-816f-4183-fac2-cc479e672f14",
        "colab": {
          "base_uri": "https://localhost:8080/"
        }
      },
      "execution_count": null,
      "outputs": [
        {
          "output_type": "stream",
          "name": "stdout",
          "text": [
            "RMSE 108329.26998254377\n"
          ]
        }
      ]
    },
    {
      "cell_type": "markdown",
      "source": [
        "# Ustunlar ta'rifi\n",
        "- `location` - sotilayotgan uy manzili\n",
        "- `district` - uy joylashgan tuman\n",
        "- `rooms` - xonalar soni\n",
        "- `size` - uy maydoni (kv.m)\n",
        "- `level` - uy joylashgan qavat\n",
        "- `max_levels` - ja'mi qavatlar soni\n",
        "- `price` - uy narxi\n",
        "\n",
        "## Vazifani CRSIP-DM Metolodgiyasi yordamida bajaring.\n",
        "<img src=\"https://i.imgur.com/dzZnnYi.png\" alt=\"CRISP-DM\" width=\"800\"/>"
      ],
      "metadata": {
        "id": "A1wt67xRcPcB"
      }
    },
    {
      "cell_type": "code",
      "source": [
        ""
      ],
      "metadata": {
        "id": "_QZesEx0cNId"
      },
      "execution_count": null,
      "outputs": []
    }
  ]
}
